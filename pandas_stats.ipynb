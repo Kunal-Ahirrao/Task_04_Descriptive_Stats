{
  "nbformat": 4,
  "nbformat_minor": 0,
  "metadata": {
    "colab": {
      "provenance": [],
      "toc_visible": true,
      "authorship_tag": "ABX9TyMlj1kZz9wFj4tReGIWt5Jn",
      "include_colab_link": true
    },
    "kernelspec": {
      "name": "python3",
      "display_name": "Python 3"
    },
    "language_info": {
      "name": "python"
    }
  },
  "cells": [
    {
      "cell_type": "markdown",
      "metadata": {
        "id": "view-in-github",
        "colab_type": "text"
      },
      "source": [
        "<a href=\"https://colab.research.google.com/github/Kunal-Ahirrao/Task_04_Descriptive_Stats/blob/main/pandas_stats.ipynb\" target=\"_parent\"><img src=\"https://colab.research.google.com/assets/colab-badge.svg\" alt=\"Open In Colab\"/></a>"
      ]
    },
    {
      "cell_type": "code",
      "execution_count": null,
      "metadata": {
        "id": "bEYSS9vxOecW"
      },
      "outputs": [],
      "source": [
        "import pandas as pd\n",
        "\n",
        "# Load dataset\n",
        "df = pd.read_csv(\"/content/2024_fb_ads_president_scored_anon.csv\")\n",
        "\n",
        "# Prepare output list\n",
        "output_lines = []\n",
        "\n",
        "# Add column info\n",
        "output_lines.append(\"=== Columns and Data Types ===\\n\")\n",
        "output_lines.extend([f\"{col}: {dtype}\" for col, dtype in df.dtypes.items()])\n",
        "output_lines.append(\"\\n\")\n",
        "\n",
        "# Descriptive statistics for numeric fields\n",
        "numeric_cols = ['estimated_audience_size', 'estimated_impressions', 'estimated_spend']\n",
        "desc_stats = df[numeric_cols].describe()\n",
        "output_lines.append(\"=== Basic Descriptive Stats ===\\n\")\n",
        "output_lines.append(desc_stats.to_string())\n",
        "output_lines.append(\"\\n\")\n",
        "\n",
        "# Categorical field summaries\n",
        "categorical_cols = ['currency', 'publisher_platforms']\n",
        "for col in categorical_cols:\n",
        "    output_lines.append(f\"=== {col} Summary ===\\n\")\n",
        "    output_lines.append(f\"Unique values: {df[col].nunique()}\")\n",
        "    output_lines.append(df[col].value_counts(dropna=False).head().to_string())\n",
        "    output_lines.append(\"\\n\")\n",
        "\n",
        "# Grouped by page_id\n",
        "output_lines.append(\"=== Grouped by page_id ===\\n\")\n",
        "group1 = df.groupby(\"page_id\")[numeric_cols].describe()\n",
        "output_lines.append(group1.to_string())\n",
        "output_lines.append(\"\\n\")\n",
        "\n",
        "# Grouped by page_id and ad_id\n",
        "output_lines.append(\"=== Grouped by page_id and ad_id ===\\n\")\n",
        "group2 = df.groupby([\"page_id\", \"ad_id\"])[numeric_cols].describe()\n",
        "output_lines.append(group2.to_string())\n",
        "output_lines.append(\"\\n\")\n",
        "\n",
        "# Save to output.txt\n",
        "with open(\"pandas_output.txt\", \"w\", encoding=\"utf-8\") as f:\n",
        "    f.write(\"\\n\".join(output_lines))\n",
        "\n",
        "print(\"Output saved to pandas_output.txt ✅\")"
      ]
    }
  ]
}